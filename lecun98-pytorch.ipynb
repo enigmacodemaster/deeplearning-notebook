{
 "cells": [
  {
   "cell_type": "code",
   "execution_count": 4,
   "metadata": {},
   "outputs": [],
   "source": [
    "import torch\n",
    "import torch.nn as nn\n",
    "import torch.optim as optim\n",
    "import torch.nn.functional as F\n",
    "from torchvision import datasets, transforms\n",
    "from torch.utils.data import DataLoader\n",
    "import matplotlib.pyplot as plt\n",
    "import random\n",
    "import torch.nn.functional as F\n",
    "from torchviz import make_dot"
   ]
  },
  {
   "cell_type": "markdown",
   "metadata": {},
   "source": [
    "##### Data examples"
   ]
  },
  {
   "cell_type": "code",
   "execution_count": 5,
   "metadata": {},
   "outputs": [],
   "source": [
    "transform = transforms.Compose([\n",
    "    transforms.ToTensor()  # 将图像转换为张量\n",
    "])\n",
    "\n",
    "# 加载训练集\n",
    "train_dataset = datasets.MNIST(root='./data', train=True, download=False, transform=transform)\n"
   ]
  },
  {
   "cell_type": "code",
   "execution_count": 6,
   "metadata": {},
   "outputs": [
    {
     "data": {
      "image/png": "[encoded data removed]",
      "text/plain": [
       "<Figure size 1200x300 with 5 Axes>"
      ]
     },
     "metadata": {},
     "output_type": "display_data"
    }
   ],
   "source": [
    "# 设置随机种子以确保结果可复现\n",
    "random.seed(42)\n",
    "\n",
    "# 随机选择一些图像的索引\n",
    "num_samples = 5  # 选择5张图像\n",
    "random_indices = random.sample(range(len(train_dataset)), num_samples)\n",
    "\n",
    "# 创建一个子图画布\n",
    "fig, axes = plt.subplots(1, num_samples, figsize=(12, 3))\n",
    "\n",
    "# 显示随机选择的图像\n",
    "for i, idx in enumerate(random_indices):\n",
    "    image, label = train_dataset[idx]  # 获取图像和标签\n",
    "    axes[i].imshow(image.squeeze(), cmap='gray')  # 显示图像（去掉批次维度）\n",
    "    axes[i].set_title(f\"Label: {label}\")  # 设置标题为标签\n",
    "    axes[i].axis('off')  # 关闭坐标轴\n",
    "\n",
    "plt.tight_layout()\n",
    "plt.show()"
   ]
  },
  {
   "cell_type": "markdown",
   "metadata": {},
   "source": [
    "LeNet-5的架构如下：\n",
    "\n",
    "输入层：32x32的灰度图像（MNIST图像会被调整为32x32）。\n",
    "\n",
    "卷积层1：6个5x5的卷积核，输出6个28x28的特征图。\n",
    "\n",
    "池化层1：2x2的最大池化，输出6个14x14的特征图。\n",
    "\n",
    "卷积层2：16个5x5的卷积核，输出16个10x10的特征图。\n",
    "\n",
    "池化层2：2x2的最大池化，输出16个5x5的特征图。\n",
    "\n",
    "全连接层1：120个神经元。\n",
    "\n",
    "全连接层2：84个神经元。\n",
    "\n",
    "输出层：10个神经元（对应10个类别）。"
   ]
  },
  {
   "cell_type": "code",
   "execution_count": 14,
   "metadata": {},
   "outputs": [],
   "source": [
    "class LeNet5(nn.Module):\n",
    "    def __init__(self):\n",
    "        super(LeNet5, self).__init__()\n",
    "        # 卷积层1：输入1通道，输出6通道，卷积核5x5\n",
    "        self.conv1 = nn.Conv2d(1, 6, kernel_size=5)\n",
    "        # 池化层1：2x2最大池化\n",
    "        self.pool1 = nn.MaxPool2d(kernel_size=2, stride=2)\n",
    "        # 卷积层2：输入6通道，输出16通道，卷积核5x5\n",
    "        self.conv2 = nn.Conv2d(6, 16, kernel_size=5)\n",
    "        # 池化层2：2x2最大池化\n",
    "        self.pool2 = nn.MaxPool2d(kernel_size=2, stride=2)\n",
    "        # 全连接层1：输入16*5*5=400，输出120\n",
    "        self.fc1 = nn.Linear(16 * 5 * 5, 120)\n",
    "        # 全连接层2：输入120，输出84\n",
    "        self.fc2 = nn.Linear(120, 84)\n",
    "        # 输出层：输入84，输出10\n",
    "        self.fc3 = nn.Linear(84, 10)\n",
    "\n",
    "    def forward(self, x):\n",
    "        # 卷积层1 + ReLU + 池化层1\n",
    "        x = self.pool1(F.relu(self.conv1(x)))\n",
    "        # 卷积层2 + ReLU + 池化层2\n",
    "        x = self.pool2(F.relu(self.conv2(x)))\n",
    "        # 展平操作\n",
    "        x = x.view(-1, 16 * 5 * 5)\n",
    "        # 全连接层1 + ReLU\n",
    "        x = F.relu(self.fc1(x))\n",
    "        # 全连接层2 + ReLU\n",
    "        x = F.relu(self.fc2(x))\n",
    "        # 输出层\n",
    "        x = self.fc3(x)\n",
    "        return x"
   ]
  },
  {
   "cell_type": "markdown",
   "metadata": {},
   "source": [
    "MNIST数据集中的图像大小为28x28，而LeNet-5的输入要求是32x32。因此，我们需要将图像调整为32x32。"
   ]
  },
  {
   "cell_type": "code",
   "execution_count": null,
   "metadata": {},
   "outputs": [],
   "source": [
    "# 数据预处理：将图像调整为32x32，转换为张量，并进行归一化\n",
    "transform = transforms.Compose([\n",
    "    transforms.Resize((32, 32)),  # 调整图像大小为32x32\n",
    "    transforms.ToTensor(),\n",
    "    transforms.Normalize((0.1307,), (0.3081,))  # MNIST的均值和标准差\n",
    "])\n",
    "\n",
    "# 加载训练集和测试集\n",
    "train_dataset = datasets.MNIST(root='./data', train=True, download=False, transform=transform)\n",
    "test_dataset = datasets.MNIST(root='./data', train=False, download=False, transform=transform)\n",
    "\n",
    "# 创建数据加载器\n",
    "train_loader = DataLoader(train_dataset, batch_size=64, shuffle=True)\n",
    "test_loader = DataLoader(test_dataset, batch_size=1000, shuffle=False)"
   ]
  },
  {
   "cell_type": "code",
   "execution_count": null,
   "metadata": {},
   "outputs": [],
   "source": [
    "def train(model, device, train_loader, optimizer, epoch):\n",
    "    model.train()\n",
    "    for batch_idx, (data, target) in enumerate(train_loader):\n",
    "        data, target = data.to(device), target.to(device)\n",
    "        optimizer.zero_grad()\n",
    "        output = model(data)\n",
    "        loss = F.cross_entropy(output, target)  # 使用交叉熵损失函数\n",
    "        loss.backward()\n",
    "        optimizer.step()\n",
    "        if batch_idx % 100 == 0:\n",
    "            print(f'Train Epoch: {epoch} [{batch_idx * len(data)}/{len(train_loader.dataset)} '\n",
    "                  f'({100. * batch_idx / len(train_loader):.0f}%)]\\tLoss: {loss.item():.6f}')\n",
    "\n",
    "def test(model, device, test_loader):\n",
    "    model.eval()\n",
    "    test_loss = 0\n",
    "    correct = 0\n",
    "    with torch.no_grad():\n",
    "        for data, target in test_loader:\n",
    "            data, target = data.to(device), target.to(device)\n",
    "            output = model(data)\n",
    "            test_loss += F.cross_entropy(output, target, reduction='sum').item()\n",
    "            pred = output.argmax(dim=1, keepdim=True)\n",
    "            correct += pred.eq(target.view_as(pred)).sum().item()\n",
    "\n",
    "    test_loss /= len(test_loader.dataset)\n",
    "    print(f'\\nTest set: Average loss: {test_loss:.4f}, Accuracy: {correct}/{len(test_loader.dataset)} '\n",
    "          f'({100. * correct / len(test_loader.dataset):.0f}%)\\n')"
   ]
  },
  {
   "cell_type": "code",
   "execution_count": null,
   "metadata": {},
   "outputs": [],
   "source": [
    "device = torch.device(\"cuda\" if torch.cuda.is_available() else \"cpu\")\n",
    "model = LeNet5().to(device)\n",
    "optimizer = optim.Adam(model.parameters(), lr=0.001)"
   ]
  },
  {
   "cell_type": "code",
   "execution_count": null,
   "metadata": {},
   "outputs": [],
   "source": [
    "epochs = 10\n",
    "for epoch in range(1, epochs + 1):\n",
    "    train(model, device, train_loader, optimizer, epoch)\n",
    "    test(model, device, test_loader)"
   ]
  },
  {
   "cell_type": "code",
   "execution_count": null,
   "metadata": {},
   "outputs": [],
   "source": [
    "torch.save(model.state_dict(), \"./lenet5_mnist.pth\")"
   ]
  },
  {
   "cell_type": "markdown",
   "metadata": {},
   "source": [
    "##### 加载模型并进行预测"
   ]
  },
  {
   "cell_type": "code",
   "execution_count": null,
   "metadata": {},
   "outputs": [],
   "source": [
    "model = LeNet5().to(device)\n",
    "model.load_state_dict(torch.load(\"lenet5_mnist.pth\"))\n",
    "model.eval()\n",
    "\n",
    "# 使用测试集中的数据进行预测\n",
    "with torch.no_grad():\n",
    "    data, target = next(iter(test_loader))\n",
    "    data, target = data.to(device), target.to(device)\n",
    "    output = model(data)\n",
    "    pred = output.argmax(dim=1, keepdim=True)\n",
    "    print(f'Predicted: {pred[0].item()}, Actual: {target[0].item()}')"
   ]
  }
 ],
 "metadata": {
  "kernelspec": {
   "display_name": "Orientor",
   "language": "python",
   "name": "python3"
  },
  "language_info": {
   "codemirror_mode": {
    "name": "ipython",
    "version": 3
   },
   "file_extension": ".py",
   "mimetype": "text/x-python",
   "name": "python",
   "nbconvert_exporter": "python",
   "pygments_lexer": "ipython3",
   "version": "3.10.13"
  }
 },
 "nbformat": 4,
 "nbformat_minor": 2
}
